{
 "cells": [
  {
   "cell_type": "code",
   "execution_count": 42,
   "metadata": {},
   "outputs": [],
   "source": [
    "import requests \n",
    "from datetime import date\n",
    "import pandas as pd\n",
    "import csv\n",
    "# import pyspark.pandas as ps\n"
   ]
  },
  {
   "cell_type": "code",
   "execution_count": 43,
   "metadata": {},
   "outputs": [],
   "source": [
    "def busca_artigo_keyword(url, chave_api, keyword):\n",
    "    url_nova = url + '?q='+keyword+'&apiKey='+chave_api\n",
    "    r = requests.get(url_nova)\n",
    "    data = r.json()\n",
    "    return data\n",
    "\n",
    "def busca_artigo_keyword_publicacao_dia(url, chave_api, keyword):\n",
    "    data_hoje = str(date.today())\n",
    "    print(data_hoje)\n",
    "    #url_nova = url + '?q='+keyword+'&apiKey='+chave_api+'&publishedAt>='+data_hoje\n",
    "    url_nova = url + '?q='+keyword+'&apiKey='+chave_api+'&from='+data_hoje\n",
    "    r = requests.get(url_nova)\n",
    "    data = r.json()\n",
    "    return data"
   ]
  },
  {
   "cell_type": "markdown",
   "metadata": {},
   "source": [
    "### Primeira chamada\n",
    "Traz todos os artigos com a palavra chave 'bitcoin'"
   ]
  },
  {
   "cell_type": "code",
   "execution_count": 44,
   "metadata": {},
   "outputs": [
    {
     "data": {
      "text/plain": [
       "{'source': {'id': 'wired', 'name': 'Wired'},\n",
       " 'author': 'Joel Khalili',\n",
       " 'title': 'What’s Behind the Bitcoin Price Surge? Vibes, Mostly',\n",
       " 'description': 'The price of bitcoin has climbed to a new all-time high. But assigning the cryptocurrency a value is anything but trivial.',\n",
       " 'url': 'https://www.wired.com/story/bitcoin-price-record-economics/',\n",
       " 'urlToImage': 'https://media.wired.com/photos/65ef46042ca08b0e59a9682f/191:100/w_1280,c_limit/031124-business-bitcoin-economics.jpg',\n",
       " 'publishedAt': '2024-03-12T18:13:56Z',\n",
       " 'content': 'The latest surge in the price of bitcoin is increasing the clamor around it, says Dal Bianco, drawing in yet more speculators and creating a self-reinforcing cycle. Likewise, when collective confiden… [+2967 chars]'}"
      ]
     },
     "execution_count": 44,
     "metadata": {},
     "output_type": "execute_result"
    }
   ],
   "source": [
    "chave_api = '657a3d08bfd94920bc9e527fac57ee28'\n",
    "url = 'https://newsapi.org/v2/everything'\n",
    "\n",
    "dados = busca_artigo_keyword(url, chave_api, 'bitcoin')\n",
    "dados['articles'][0]\n"
   ]
  },
  {
   "cell_type": "markdown",
   "metadata": {},
   "source": [
    "Cria CSV com a primeira chamada, enviando o histórico das noticias"
   ]
  },
  {
   "cell_type": "code",
   "execution_count": null,
   "metadata": {},
   "outputs": [],
   "source": [
    "articles = dados['articles']\n",
    "df = pd.DataFrame(articles)\n",
    "caminho_arquivo_csv = 'dados.csv'\n",
    "df.to_csv(caminho_arquivo_csv, index=False)\n"
   ]
  },
  {
   "cell_type": "markdown",
   "metadata": {},
   "source": [
    "## Demais chamadas \n",
    "Traz"
   ]
  },
  {
   "cell_type": "code",
   "execution_count": 19,
   "metadata": {},
   "outputs": [
    {
     "name": "stdout",
     "output_type": "stream",
     "text": [
      "2024-04-01\n"
     ]
    },
    {
     "data": {
      "text/plain": [
       "{'status': 'ok',\n",
       " 'totalResults': 3,\n",
       " 'articles': [{'source': {'id': None, 'name': 'Erickimphotography.com'},\n",
       "   'author': 'ERIC KIM',\n",
       "   'title': 'Growth Opportunities',\n",
       "   'description': 'How much room or opportunity is there for growth? With Bitcoin, sky’s the limit! I think with bitcoin, you could easily hit $150,000 a bitcoin, post halving, and then after that, I wouldn’t be surprised to see one bitcoin being worth $750,000, $1.3 million, $…',\n",
       "   'url': 'https://erickimphotography.com/blog/2024/03/31/growth-opportunities/',\n",
       "   'urlToImage': None,\n",
       "   'publishedAt': '2024-04-01T00:20:59Z',\n",
       "   'content': 'How much room or opportunity is there for growth?\\r\\nWith Bitcoin, skys the limit!\\r\\nI think with bitcoin, you could easily hit $150,000 a bitcoin, post halving, and then after that, I wouldnt be surpri… [+457 chars]'},\n",
       "  {'source': {'id': None, 'name': 'Biztoc.com'},\n",
       "   'author': 'dailyhodl.com',\n",
       "   'title': 'Top Trader Predicts Fresh Leg Up for SOL and One Solana-Based Altcoin, Updates Outlook on Dogecoin',\n",
       "   'description': 'An analyst who’s been making timely altcoin calls as of late thinks that three crypto assets are almost ready to witness moves to the upside. Pseudonymous analyst Bluntz tells his 252,000 followers on the social media platform X that he’s bullish on Solana (S…',\n",
       "   'url': 'https://biztoc.com/x/4f9e67c3805726df',\n",
       "   'urlToImage': 'https://c.biztoc.com/p/4f9e67c3805726df/s.webp',\n",
       "   'publishedAt': '2024-04-01T00:10:05Z',\n",
       "   'content': 'An analyst whos been making timely altcoin calls as of late thinks that three crypto assets are almost ready to witness moves to the upside.Pseudonymous analyst Bluntz tells his 252,000 followers on … [+263 chars]'},\n",
       "  {'source': {'id': None, 'name': 'The Daily Hodl'},\n",
       "   'author': 'Henry Kanapi',\n",
       "   'title': 'Top Trader Predicts Fresh Leg Up for SOL and One Solana-Based Altcoin, Updates Outlook on Dogecoin',\n",
       "   'description': 'An analyst who’s been making timely altcoin calls as of late thinks that three crypto assets are almost ready to witness moves to the upside. Pseudonymous analyst Bluntz tells his 252,000 followers on the social media platform X that he’s bullish on Solana (S…',\n",
       "   'url': 'https://dailyhodl.com/2024/03/31/top-trader-predicts-fresh-leg-up-for-sol-and-one-solana-based-altcoin-updates-outlook-on-dogecoin/',\n",
       "   'urlToImage': 'https://dailyhodl.com/wp-content/uploads/2023/10/Solana-Chart-in-Works.jpg',\n",
       "   'publishedAt': '2024-04-01T00:00:53Z',\n",
       "   'content': 'An analyst who’s been making timely altcoin calls as of late thinks that three crypto assets are almost ready to witness moves to the upside.\\r\\nPseudonymous analyst Bluntz tells his 252,000 followers … [+1558 chars]'}]}"
      ]
     },
     "execution_count": 19,
     "metadata": {},
     "output_type": "execute_result"
    }
   ],
   "source": [
    "dados_hoje = busca_artigo_keyword_publicacao_dia(url, chave_api, 'bitcoin')\n",
    "dados_hoje"
   ]
  },
  {
   "cell_type": "code",
   "execution_count": null,
   "metadata": {},
   "outputs": [],
   "source": []
  }
 ],
 "metadata": {
  "kernelspec": {
   "display_name": "Python 3",
   "language": "python",
   "name": "python3"
  },
  "language_info": {
   "codemirror_mode": {
    "name": "ipython",
    "version": 3
   },
   "file_extension": ".py",
   "mimetype": "text/x-python",
   "name": "python",
   "nbconvert_exporter": "python",
   "pygments_lexer": "ipython3",
   "version": "3.11.5"
  }
 },
 "nbformat": 4,
 "nbformat_minor": 2
}

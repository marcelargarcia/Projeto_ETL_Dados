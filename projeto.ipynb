{
 "cells": [
  {
   "cell_type": "code",
   "execution_count": 25,
   "metadata": {},
   "outputs": [],
   "source": [
    "import requests \n",
    "from datetime import datetime, timedelta\n",
    "import pandas as pd\n",
    "from pandas.errors import EmptyDataError\n",
    "import csv\n",
    "import os\n",
    "# import pyspark.pandas as ps\n"
   ]
  },
  {
   "cell_type": "markdown",
   "metadata": {},
   "source": [
    "## Funções"
   ]
  },
  {
   "cell_type": "code",
   "execution_count": 13,
   "metadata": {},
   "outputs": [],
   "source": [
    "def busca_artigo_keyword(url, chave_api, keyword):\n",
    "    url_nova = url + '?q='+keyword+'&apiKey='+chave_api\n",
    "    r = requests.get(url_nova)\n",
    "    data = r.json()\n",
    "    return data\n",
    "\n",
    "def busca_artigo_keyword_publicacao_hora(url_api, api_key, palavra_chave):\n",
    "    agora = datetime.utcnow()\n",
    "    hora_anterior = agora - timedelta(hours=1)\n",
    "    hora_anterior_formatada = hora_anterior.strftime('%Y-%m-%dT%H:%M:%SZ')\n",
    "    agora_formatada = agora.strftime('%Y-%m-%dT%H:%M:%SZ')\n",
    "    url_nova = f\"{url_api}?q={palavra_chave}&apiKey={api_key}&from={hora_anterior_formatada}&to={agora_formatada}\"\n",
    "    resposta = requests.get(url_nova)\n",
    "    dados_json = resposta.json()\n",
    "    return dados_json"
   ]
  },
  {
   "cell_type": "markdown",
   "metadata": {},
   "source": [
    "## Extract inicial (histórico)\n",
    "Traz todos os artigos com a palavra chave 'bitcoin'"
   ]
  },
  {
   "cell_type": "code",
   "execution_count": 4,
   "metadata": {},
   "outputs": [
    {
     "data": {
      "text/plain": [
       "{'source': {'id': 'wired', 'name': 'Wired'},\n",
       " 'author': 'Joel Khalili',\n",
       " 'title': 'What’s Behind the Bitcoin Price Surge? Vibes, Mostly',\n",
       " 'description': 'The price of bitcoin has climbed to a new all-time high. But assigning the cryptocurrency a value is anything but trivial.',\n",
       " 'url': 'https://www.wired.com/story/bitcoin-price-record-economics/',\n",
       " 'urlToImage': 'https://media.wired.com/photos/65ef46042ca08b0e59a9682f/191:100/w_1280,c_limit/031124-business-bitcoin-economics.jpg',\n",
       " 'publishedAt': '2024-03-12T18:13:56Z',\n",
       " 'content': 'The latest surge in the price of bitcoin is increasing the clamor around it, says Dal Bianco, drawing in yet more speculators and creating a self-reinforcing cycle. Likewise, when collective confiden… [+2967 chars]'}"
      ]
     },
     "execution_count": 4,
     "metadata": {},
     "output_type": "execute_result"
    }
   ],
   "source": [
    "chave_api = '657a3d08bfd94920bc9e527fac57ee28'\n",
    "url = 'https://newsapi.org/v2/everything'\n",
    "\n",
    "dados = busca_artigo_keyword(url, chave_api, 'bitcoin')\n",
    "dados['articles'][0]\n"
   ]
  },
  {
   "cell_type": "markdown",
   "metadata": {},
   "source": [
    "Cria CSV com a primeira chamada, enviando o histórico das noticias"
   ]
  },
  {
   "cell_type": "code",
   "execution_count": 5,
   "metadata": {},
   "outputs": [],
   "source": [
    "articles = dados['articles']\n",
    "df = pd.DataFrame(articles)\n",
    "caminho_arquivo_csv = 'dados.csv'\n",
    "df.to_csv(caminho_arquivo_csv, index=False)\n"
   ]
  },
  {
   "cell_type": "markdown",
   "metadata": {},
   "source": [
    "## Extract de hora em hora\n",
    "Traz todos os artigos com a palavra chave 'bitcoin' que foram publicados na ultima hora"
   ]
  },
  {
   "cell_type": "code",
   "execution_count": 20,
   "metadata": {},
   "outputs": [
    {
     "data": {
      "text/plain": [
       "[]"
      ]
     },
     "execution_count": 20,
     "metadata": {},
     "output_type": "execute_result"
    }
   ],
   "source": [
    "dados_ultima_hora = busca_artigo_keyword_publicacao_hora(url, chave_api, 'bitcoin')\n",
    "artigos_ultima_hora = dados_ultima_hora['articles']\n",
    "artigos_ultima_hora"
   ]
  },
  {
   "cell_type": "code",
   "execution_count": 23,
   "metadata": {},
   "outputs": [],
   "source": [
    "# Adicionar alguma logica para rodar de hora em hora"
   ]
  },
  {
   "cell_type": "code",
   "execution_count": 22,
   "metadata": {},
   "outputs": [
    {
     "name": "stdout",
     "output_type": "stream",
     "text": [
      "Nenhum dado encontrado para adicionar ao CSV.\n"
     ]
    }
   ],
   "source": [
    "if artigos_ultima_hora:\n",
    "    try:\n",
    "        df = pd.read_csv('dados_hoje.csv')\n",
    "    except (FileNotFoundError, EmptyDataError):\n",
    "        df = pd.DataFrame()\n",
    "\n",
    "    novos_dados = pd.DataFrame(artigos_ultima_hora)\n",
    "    df = pd.concat([df, novos_dados], ignore_index=True)\n",
    "\n",
    "    df.to_csv('dados_hoje.csv', index=False)\n",
    "else:\n",
    "    print('Nenhum dado encontrado para adicionar ao CSV.')"
   ]
  },
  {
   "cell_type": "markdown",
   "metadata": {},
   "source": [
    "## Extract final do dia"
   ]
  },
  {
   "cell_type": "code",
   "execution_count": 24,
   "metadata": {},
   "outputs": [],
   "source": [
    "# Adicionar alguma logica para rodar no fim do dia"
   ]
  },
  {
   "cell_type": "code",
   "execution_count": 26,
   "metadata": {},
   "outputs": [
    {
     "name": "stdout",
     "output_type": "stream",
     "text": [
      "O arquivo dados_hoje.csv não foi encontrado.\n"
     ]
    }
   ],
   "source": [
    "arquivo_dados_hoje = 'dados_hoje.csv'\n",
    "arquivo_dados = 'dados.csv'\n",
    "\n",
    "if os.path.isfile(arquivo_dados_hoje):\n",
    "    df_hoje = pd.read_csv(arquivo_dados_hoje)\n",
    "\n",
    "    if os.path.isfile(arquivo_dados):\n",
    "        df_dados = pd.read_csv(arquivo_dados)\n",
    "        df_resultado = pd.concat([df_dados, df_hoje], ignore_index=True)\n",
    "        df_resultado.to_csv(arquivo_dados, index=False)\n",
    "    else:\n",
    "        os.rename(arquivo_dados_hoje, arquivo_dados)\n",
    "else:\n",
    "    print('O arquivo dados_hoje.csv não foi encontrado.')"
   ]
  }
 ],
 "metadata": {
  "kernelspec": {
   "display_name": "Python 3",
   "language": "python",
   "name": "python3"
  },
  "language_info": {
   "codemirror_mode": {
    "name": "ipython",
    "version": 3
   },
   "file_extension": ".py",
   "mimetype": "text/x-python",
   "name": "python",
   "nbconvert_exporter": "python",
   "pygments_lexer": "ipython3",
   "version": "3.11.5"
  }
 },
 "nbformat": 4,
 "nbformat_minor": 2
}
